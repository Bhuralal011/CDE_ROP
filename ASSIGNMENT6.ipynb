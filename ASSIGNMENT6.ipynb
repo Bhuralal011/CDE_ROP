{
 "cells": [
  {
   "cell_type": "code",
   "execution_count": null,
   "id": "bb2f093e-ff8a-47a9-9aae-c713a9079a4a",
   "metadata": {},
   "outputs": [],
   "source": [
    "#Question1\n",
    "1) Write a Python program to create a class representing a Circle. Include methods to calculate its area and perimeter."
   ]
  },
  {
   "cell_type": "code",
   "execution_count": 53,
   "id": "5992132c-4d9d-411e-b99f-65dc29f2040b",
   "metadata": {},
   "outputs": [],
   "source": [
    "    class cricle():\n",
    "        def area(self , radius):\n",
    "            ar = 3.14*radius**2\n",
    "            print(ar)\n",
    "        def parameter(self , radius):\n",
    "            para = 2*3.14*radius\n",
    "            print(para)\n",
    "            \n",
    "            \n",
    "            "
   ]
  },
  {
   "cell_type": "code",
   "execution_count": 54,
   "id": "9912cd37-2b93-4e81-87dc-807b4b138ff2",
   "metadata": {},
   "outputs": [],
   "source": [
    "cricle_obj = cricle()"
   ]
  },
  {
   "cell_type": "code",
   "execution_count": 55,
   "id": "d76141dc-c9f1-4fe7-ba85-cb913370251a",
   "metadata": {},
   "outputs": [
    {
     "name": "stdout",
     "output_type": "stream",
     "text": [
      "28.26\n",
      "25.12\n"
     ]
    }
   ],
   "source": [
    "cricle_obj.area(3)\n",
    "cricle_obj.parameter(4)"
   ]
  },
  {
   "cell_type": "code",
   "execution_count": null,
   "id": "26d5728b-b0c6-46d4-8aa8-28a873f42c7e",
   "metadata": {},
   "outputs": [],
   "source": []
  },
  {
   "cell_type": "code",
   "execution_count": 56,
   "id": "462f6f88-dda0-49af-b282-94bc14f6184c",
   "metadata": {},
   "outputs": [],
   "source": [
    "#question2\n",
    "#2) Write a Python program to create a person class. Include attributes like name, country and date of birth. Implement a method to determine the person's age.\n",
    "class person():\n",
    "    def __init__(self , name , country,dob):\n",
    "        self.name = name\n",
    "        self.country = country\n",
    "        self.dob = dob\n",
    "\n",
    "    def person_age(self , age):\n",
    "        print(f' this person age:{age} ')\n"
   ]
  },
  {
   "cell_type": "code",
   "execution_count": 57,
   "id": "7487f4bd-b078-4d54-96af-f8092fdfad53",
   "metadata": {},
   "outputs": [],
   "source": [
    "obj_person = person(\"ali\",\"pakistan\",\"23/09/2009\")"
   ]
  },
  {
   "cell_type": "code",
   "execution_count": 58,
   "id": "6b6815fa-156c-4cad-8da3-9d2cb7415f4a",
   "metadata": {},
   "outputs": [
    {
     "name": "stdout",
     "output_type": "stream",
     "text": [
      " this person age:23 \n"
     ]
    }
   ],
   "source": [
    "obj_person.person_age(23)"
   ]
  },
  {
   "cell_type": "code",
   "execution_count": null,
   "id": "169aec1f-3504-445b-a287-0f437ac43ffd",
   "metadata": {},
   "outputs": [],
   "source": []
  },
  {
   "cell_type": "code",
   "execution_count": 63,
   "id": "33cabd02-e148-49bc-8498-150dedfe7ad9",
   "metadata": {},
   "outputs": [],
   "source": [
    "#3)Write a Python program to create a calculator class. Include methods for basic arithmetic operations"
   ]
  },
  {
   "cell_type": "code",
   "execution_count": 65,
   "id": "c894235f-b7e3-403b-8654-aeb307d2f346",
   "metadata": {},
   "outputs": [],
   "source": [
    "class calculator():\n",
    "    def sum(self , a , b):\n",
    "        add = a+b\n",
    "        print(f\"sum of two number num1 = {a}, num2 = {b}  => {add} \")\n",
    "    def sub(self , a , b):\n",
    "        subt = a-b\n",
    "        print(f\"subrt of two number num1 = {a}, num2 = {b}  => {subt} \")\n",
    "    def multiple(self , a , b):\n",
    "        multi = a*b\n",
    "        print(f\"multiple of two number num1 = {a}, num2 = {b}  => {multi} \")\n",
    "    def divide(self , a , b):\n",
    "        divi = a/b  \n",
    "        print(f\"divide of two number num1 = {a}, num2 = {b}  => {divi} \")\n",
    "        "
   ]
  },
  {
   "cell_type": "code",
   "execution_count": 66,
   "id": "ba0bf529-cec2-4111-90c5-46b1cf6be0ec",
   "metadata": {},
   "outputs": [],
   "source": [
    "obj_calcalator = calculator()"
   ]
  },
  {
   "cell_type": "code",
   "execution_count": 72,
   "id": "0fa660d3-da1e-475f-adf3-1195e55373a5",
   "metadata": {},
   "outputs": [
    {
     "name": "stdout",
     "output_type": "stream",
     "text": [
      "sum of two number num1 = 1, num2 = 4  => 5 \n",
      "subrt of two number num1 = 10, num2 = 23  => -13 \n",
      "multiple of two number num1 = 10, num2 = 21  => 210 \n",
      "divide of two number num1 = 102, num2 = 2  => 51.0 \n"
     ]
    }
   ],
   "source": [
    "obj_calcalator.sum(1,4)\n",
    "obj_calcalator.sub(10 , 23)\n",
    "obj_calcalator.multiple(10 , 21)\n",
    "obj_calcalator.divide(102 , 2)"
   ]
  },
  {
   "cell_type": "code",
   "execution_count": null,
   "id": "4e5881e0-d8c8-431f-a318-6816edf508ec",
   "metadata": {},
   "outputs": [],
   "source": []
  },
  {
   "cell_type": "code",
   "execution_count": null,
   "id": "4234217e-d0fc-4cf2-9c6f-ddd943f6b767",
   "metadata": {},
   "outputs": [],
   "source": []
  },
  {
   "cell_type": "code",
   "execution_count": null,
   "id": "ff45f393-efd6-43f8-b0c9-8c9b796d1d5f",
   "metadata": {},
   "outputs": [],
   "source": []
  }
 ],
 "metadata": {
  "kernelspec": {
   "display_name": "Python 3 (ipykernel)",
   "language": "python",
   "name": "python3"
  },
  "language_info": {
   "codemirror_mode": {
    "name": "ipython",
    "version": 3
   },
   "file_extension": ".py",
   "mimetype": "text/x-python",
   "name": "python",
   "nbconvert_exporter": "python",
   "pygments_lexer": "ipython3",
   "version": "3.13.0"
  }
 },
 "nbformat": 4,
 "nbformat_minor": 5
}
